{
  "cells": [
    {
      "cell_type": "code",
      "execution_count": 2,
      "metadata": {
        "colab": {
          "base_uri": "https://localhost:8080/"
        },
        "id": "W6b-salFsC4k",
        "outputId": "c079e854-6c7e-4446-c350-547408ba8aaf"
      },
      "outputs": [
        {
          "name": "stdout",
          "output_type": "stream",
          "text": [
            "Requirement already satisfied: openpyxl in /usr/local/lib/python3.11/dist-packages (3.1.5)\n",
            "Requirement already satisfied: et-xmlfile in /usr/local/lib/python3.11/dist-packages (from openpyxl) (2.0.0)\n",
            "   Numero   Dataset de Reseñas de Call Center (200 ejemplos)\n",
            "0       1   Excelente atención, me resolvieron todo rápid...\n",
            "1       2                El agente fue muy amable y paciente\n",
            "2       3              Me encantó el servicio, muy eficiente\n",
            "3       4                        Rápido, claro y profesional\n",
            "4       5                     Todo perfecto, muy recomendado\n"
          ]
        }
      ],
      "source": [
        "# prompt: Importa el arhcivo DataSet que es un xlsx\n",
        "\n",
        "import pandas as pd\n",
        "\n",
        "# Install openpyxl if not already installed\n",
        "!pip install openpyxl\n",
        "\n",
        "# Replace 'DataSet.xlsx' with the actual filename if different\n",
        "df = pd.read_excel('DataSet.xlsx', engine='openpyxl')\n",
        "\n",
        "# Now you can work with the DataFrame 'df'\n",
        "# Example: Print the first 5 rows\n",
        "print(df.head())\n"
      ]
    },
    {
      "cell_type": "code",
      "execution_count": null,
      "metadata": {
        "colab": {
          "base_uri": "https://localhost:8080/"
        },
        "id": "IS3dirxKsM6L",
        "outputId": "89279bf6-1eb3-4831-c6a8-e3f764deb1b3"
      },
      "outputs": [
        {
          "name": "stdout",
          "output_type": "stream",
          "text": [
            "✅ Archivo Excel cargado. Columnas encontradas: ['Numero', 'Dataset de Reseñas de Call Center (200 ejemplos)']\n",
            "\n",
            "✅ Accuracy: 1.00\n",
            "\n",
            "📊 Reporte de clasificación:\n",
            "               precision    recall  f1-score   support\n",
            "\n",
            "           0       1.00      1.00      1.00        19\n",
            "           1       1.00      1.00      1.00        21\n",
            "\n",
            "    accuracy                           1.00        40\n",
            "   macro avg       1.00      1.00      1.00        40\n",
            "weighted avg       1.00      1.00      1.00        40\n",
            "\n"
          ]
        }
      ],
      "source": [
        "# Clasificador binario de reseñas de call center (versión mejorada)\n",
        "\n",
        "import pandas as pd\n",
        "import numpy as np\n",
        "from sklearn.model_selection import train_test_split\n",
        "from sklearn.feature_extraction.text import TfidfVectorizer\n",
        "from sklearn.linear_model import LogisticRegression\n",
        "from sklearn.metrics import accuracy_score, classification_report\n",
        "from sklearn.model_selection import cross_val_score\n",
        "\n",
        "!pip install -q openpyxl\n",
        "\n",
        "# === 1. Cargar archivo si existe ===\n",
        "try:\n",
        "    df = pd.read_excel('DataSet.xlsx', engine='openpyxl')\n",
        "    print(\"✅ Archivo Excel cargado. Columnas encontradas:\", df.columns.tolist())\n",
        "    df = df.iloc[:, 1:]  # ignorar columna 'Número'\n",
        "    df.columns = ['text']\n",
        "\n",
        "    # Asumimos 100 positivas + 100 negativas\n",
        "    n = len(df)\n",
        "    half = n // 2\n",
        "    df['label'] = [1]*half + [0]*(n - half)\n",
        "\n",
        "except:\n",
        "    print(\"⚠️ No se encontró archivo. Se generará dataset sintético enriquecido.\")\n",
        "\n",
        "    # === 2. Dataset sintético enriquecido ===\n",
        "\n",
        "    positivas = [\n",
        "        \"excelente atención\", \"muy buen trato\", \"rápido y eficiente\", \"resolvieron todo\",\n",
        "        \"satisfecho con el servicio\", \"amables y claros\", \"me ayudaron mucho\", \"felicitaciones al agente\",\n",
        "        \"trato profesional y educado\", \"todo perfecto\", \"me sentí escuchado\", \"solucionaron mi problema\",\n",
        "        \"fueron muy atentos\", \"estoy contento\", \"resolución inmediata\", \"sin contratiempos\", \"rápido y cordial\",\n",
        "        \"muy recomendable\", \"claridad total\", \"excelente experiencia\"\n",
        "    ]\n",
        "\n",
        "    negativas = [\n",
        "        \"esperé demasiado\", \"nadie contestó\", \"pésimo servicio\", \"no resolvieron nada\", \"mal trato\",\n",
        "        \"fui ignorado\", \"me colgaron\", \"demasiado lento\", \"inútiles\", \"atención deficiente\",\n",
        "        \"me dejaron en espera\", \"groseros y sin ayuda\", \"no me dieron solución\", \"reclamé y no respondieron\",\n",
        "        \"una estafa\", \"no se hacen responsables\", \"problemas constantes\", \"mala atención\", \"muy decepcionado\", \"odio el trato\"\n",
        "    ]\n",
        "\n",
        "    texts = positivas + negativas\n",
        "    labels = [1]*len(positivas) + [0]*len(negativas)\n",
        "\n",
        "    # Aumentar a 200 con repetición aleatoria\n",
        "    texts_extended = list(np.random.choice(texts, 200, replace=True))\n",
        "    labels_extended = [1 if t in positivas else 0 for t in texts_extended]\n",
        "\n",
        "    df = pd.DataFrame({'text': texts_extended, 'label': labels_extended})\n",
        "    df = df.sample(frac=1, random_state=42).reset_index(drop=True)\n",
        "\n",
        "# === 3. Preprocesamiento ===\n",
        "df['text'] = df['text'].astype(str).str.lower()\n",
        "\n",
        "# === 4. Dividir datos ===\n",
        "X_train, X_test, y_train, y_test = train_test_split(df['text'], df['label'], test_size=0.2, random_state=42)\n",
        "\n",
        "# === 5. TF-IDF con n-grams ===\n",
        "vectorizer = TfidfVectorizer(ngram_range=(1,2))\n",
        "X_train_vec = vectorizer.fit_transform(X_train)\n",
        "X_test_vec = vectorizer.transform(X_test)\n",
        "\n",
        "# === 6. Entrenar modelo ===\n",
        "model = LogisticRegression()\n",
        "model.fit(X_train_vec, y_train)\n",
        "\n"
      ]
    }
  ],
  "metadata": {
    "colab": {
      "provenance": []
    },
    "kernelspec": {
      "display_name": "Python 3",
      "name": "python3"
    },
    "language_info": {
      "name": "python"
    }
  },
  "nbformat": 4,
  "nbformat_minor": 0
}
